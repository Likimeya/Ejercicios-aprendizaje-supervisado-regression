{
 "cells": [
  {
   "cell_type": "markdown",
   "id": "145649d5",
   "metadata": {},
   "source": [
    "## Exercici 1\n",
    "**Crea almenys dos models de regressió diferents per intentar predir el millor possible el preu de les vivendes (MEDV) de l'arxiu adjunt.**"
   ]
  },
  {
   "cell_type": "code",
   "execution_count": 30,
   "id": "663b640b",
   "metadata": {},
   "outputs": [],
   "source": [
    "import numpy as np\n",
    "import pandas as pd\n",
    "import warnings\n",
    "import seaborn as sns\n",
    "from sklearn import datasets, linear_model\n",
    "from sklearn.model_selection import train_test_split, cross_val_score\n",
    "from sklearn.linear_model import LinearRegression, Ridge, Lasso\n",
    "from sklearn.model_selection import GridSearchCV\n",
    "from sklearn.metrics import mean_squared_error\n",
    "import statsmodels.api as sm\n",
    "from pandas.plotting import scatter_matrix\n",
    "import matplotlib.pyplot as plt\n",
    "from lazypredict.Supervised import LazyRegressor, LazyClassifier\n",
    "import pyforest\n",
    "from sklearn.datasets import make_regression\n",
    "from sklearn.ensemble import GradientBoostingRegressor\n",
    "from sklearn.experimental    import enable_hist_gradient_boosting\n",
    "from sklearn.ensemble        import HistGradientBoostingRegressor\n",
    "from sklearn.model_selection import RepeatedKFold\n",
    "from sklearn.model_selection import KFold"
   ]
  },
  {
   "cell_type": "code",
   "execution_count": 3,
   "id": "32fe1eeb",
   "metadata": {},
   "outputs": [
    {
     "data": {
      "text/html": [
       "<div>\n",
       "<style scoped>\n",
       "    .dataframe tbody tr th:only-of-type {\n",
       "        vertical-align: middle;\n",
       "    }\n",
       "\n",
       "    .dataframe tbody tr th {\n",
       "        vertical-align: top;\n",
       "    }\n",
       "\n",
       "    .dataframe thead th {\n",
       "        text-align: right;\n",
       "    }\n",
       "</style>\n",
       "<table border=\"1\" class=\"dataframe\">\n",
       "  <thead>\n",
       "    <tr style=\"text-align: right;\">\n",
       "      <th></th>\n",
       "      <th>CRIM</th>\n",
       "      <th>ZN</th>\n",
       "      <th>INDUS</th>\n",
       "      <th>CHAS</th>\n",
       "      <th>NOX</th>\n",
       "      <th>RM</th>\n",
       "      <th>AGE</th>\n",
       "      <th>DIS</th>\n",
       "      <th>RAD</th>\n",
       "      <th>TAX</th>\n",
       "      <th>PTRATIO</th>\n",
       "      <th>B</th>\n",
       "      <th>LSTAT</th>\n",
       "      <th>MEDV</th>\n",
       "    </tr>\n",
       "  </thead>\n",
       "  <tbody>\n",
       "    <tr>\n",
       "      <th>0</th>\n",
       "      <td>0.03</td>\n",
       "      <td>0.00</td>\n",
       "      <td>7.07</td>\n",
       "      <td>0</td>\n",
       "      <td>0.47</td>\n",
       "      <td>6.42</td>\n",
       "      <td>78.90</td>\n",
       "      <td>4.97</td>\n",
       "      <td>2</td>\n",
       "      <td>242.00</td>\n",
       "      <td>17.80</td>\n",
       "      <td>396.90</td>\n",
       "      <td>9.14</td>\n",
       "      <td>21.60</td>\n",
       "    </tr>\n",
       "    <tr>\n",
       "      <th>1</th>\n",
       "      <td>0.03</td>\n",
       "      <td>0.00</td>\n",
       "      <td>7.07</td>\n",
       "      <td>0</td>\n",
       "      <td>0.47</td>\n",
       "      <td>7.18</td>\n",
       "      <td>61.10</td>\n",
       "      <td>4.97</td>\n",
       "      <td>2</td>\n",
       "      <td>242.00</td>\n",
       "      <td>17.80</td>\n",
       "      <td>392.83</td>\n",
       "      <td>4.03</td>\n",
       "      <td>34.70</td>\n",
       "    </tr>\n",
       "    <tr>\n",
       "      <th>2</th>\n",
       "      <td>0.03</td>\n",
       "      <td>0.00</td>\n",
       "      <td>2.18</td>\n",
       "      <td>0</td>\n",
       "      <td>0.46</td>\n",
       "      <td>7.00</td>\n",
       "      <td>45.80</td>\n",
       "      <td>6.06</td>\n",
       "      <td>3</td>\n",
       "      <td>222.00</td>\n",
       "      <td>18.70</td>\n",
       "      <td>394.63</td>\n",
       "      <td>2.94</td>\n",
       "      <td>33.40</td>\n",
       "    </tr>\n",
       "    <tr>\n",
       "      <th>3</th>\n",
       "      <td>0.07</td>\n",
       "      <td>0.00</td>\n",
       "      <td>2.18</td>\n",
       "      <td>0</td>\n",
       "      <td>0.46</td>\n",
       "      <td>7.15</td>\n",
       "      <td>54.20</td>\n",
       "      <td>6.06</td>\n",
       "      <td>3</td>\n",
       "      <td>222.00</td>\n",
       "      <td>18.70</td>\n",
       "      <td>396.90</td>\n",
       "      <td>5.33</td>\n",
       "      <td>36.20</td>\n",
       "    </tr>\n",
       "    <tr>\n",
       "      <th>4</th>\n",
       "      <td>0.03</td>\n",
       "      <td>0.00</td>\n",
       "      <td>2.18</td>\n",
       "      <td>0</td>\n",
       "      <td>0.46</td>\n",
       "      <td>6.43</td>\n",
       "      <td>58.70</td>\n",
       "      <td>6.06</td>\n",
       "      <td>3</td>\n",
       "      <td>222.00</td>\n",
       "      <td>18.70</td>\n",
       "      <td>394.12</td>\n",
       "      <td>5.21</td>\n",
       "      <td>28.70</td>\n",
       "    </tr>\n",
       "  </tbody>\n",
       "</table>\n",
       "</div>"
      ],
      "text/plain": [
       "   CRIM   ZN  INDUS  CHAS  NOX   RM   AGE  DIS  RAD    TAX  PTRATIO      B  \\\n",
       "0  0.03 0.00   7.07     0 0.47 6.42 78.90 4.97    2 242.00    17.80 396.90   \n",
       "1  0.03 0.00   7.07     0 0.47 7.18 61.10 4.97    2 242.00    17.80 392.83   \n",
       "2  0.03 0.00   2.18     0 0.46 7.00 45.80 6.06    3 222.00    18.70 394.63   \n",
       "3  0.07 0.00   2.18     0 0.46 7.15 54.20 6.06    3 222.00    18.70 396.90   \n",
       "4  0.03 0.00   2.18     0 0.46 6.43 58.70 6.06    3 222.00    18.70 394.12   \n",
       "\n",
       "   LSTAT  MEDV  \n",
       "0   9.14 21.60  \n",
       "1   4.03 34.70  \n",
       "2   2.94 33.40  \n",
       "3   5.33 36.20  \n",
       "4   5.21 28.70  "
      ]
     },
     "execution_count": 3,
     "metadata": {},
     "output_type": "execute_result"
    }
   ],
   "source": [
    "df = pd.read_csv('housing data (3).csv')\n",
    "df.columns=[\"CRIM\", \"ZN\",\"INDUS\", \"CHAS\", \"NOX\", \"RM\", \"AGE\", \"DIS\", \"RAD\", \"TAX\", \"PTRATIO\", \"B\", \"LSTAT\", \"MEDV\"]\n",
    "df.head()"
   ]
  },
  {
   "cell_type": "code",
   "execution_count": 4,
   "id": "641a7922",
   "metadata": {},
   "outputs": [
    {
     "data": {
      "text/plain": [
       "(505, 14)"
      ]
     },
     "execution_count": 4,
     "metadata": {},
     "output_type": "execute_result"
    }
   ],
   "source": [
    "df.shape"
   ]
  },
  {
   "cell_type": "code",
   "execution_count": 5,
   "id": "6c5f855b",
   "metadata": {},
   "outputs": [
    {
     "data": {
      "text/html": [
       "<div>\n",
       "<style scoped>\n",
       "    .dataframe tbody tr th:only-of-type {\n",
       "        vertical-align: middle;\n",
       "    }\n",
       "\n",
       "    .dataframe tbody tr th {\n",
       "        vertical-align: top;\n",
       "    }\n",
       "\n",
       "    .dataframe thead th {\n",
       "        text-align: right;\n",
       "    }\n",
       "</style>\n",
       "<table border=\"1\" class=\"dataframe\">\n",
       "  <thead>\n",
       "    <tr style=\"text-align: right;\">\n",
       "      <th></th>\n",
       "      <th>CRIM</th>\n",
       "      <th>ZN</th>\n",
       "      <th>INDUS</th>\n",
       "      <th>CHAS</th>\n",
       "      <th>NOX</th>\n",
       "      <th>RM</th>\n",
       "      <th>AGE</th>\n",
       "      <th>DIS</th>\n",
       "      <th>RAD</th>\n",
       "      <th>TAX</th>\n",
       "      <th>PTRATIO</th>\n",
       "      <th>B</th>\n",
       "      <th>LSTAT</th>\n",
       "      <th>MEDV</th>\n",
       "    </tr>\n",
       "  </thead>\n",
       "  <tbody>\n",
       "    <tr>\n",
       "      <th>count</th>\n",
       "      <td>505.00</td>\n",
       "      <td>505.00</td>\n",
       "      <td>505.00</td>\n",
       "      <td>505.00</td>\n",
       "      <td>505.00</td>\n",
       "      <td>505.00</td>\n",
       "      <td>505.00</td>\n",
       "      <td>505.00</td>\n",
       "      <td>505.00</td>\n",
       "      <td>505.00</td>\n",
       "      <td>505.00</td>\n",
       "      <td>505.00</td>\n",
       "      <td>505.00</td>\n",
       "      <td>505.00</td>\n",
       "    </tr>\n",
       "    <tr>\n",
       "      <th>mean</th>\n",
       "      <td>3.62</td>\n",
       "      <td>11.35</td>\n",
       "      <td>11.15</td>\n",
       "      <td>0.07</td>\n",
       "      <td>0.55</td>\n",
       "      <td>6.28</td>\n",
       "      <td>68.58</td>\n",
       "      <td>3.79</td>\n",
       "      <td>9.57</td>\n",
       "      <td>408.46</td>\n",
       "      <td>18.46</td>\n",
       "      <td>356.59</td>\n",
       "      <td>12.67</td>\n",
       "      <td>22.53</td>\n",
       "    </tr>\n",
       "    <tr>\n",
       "      <th>std</th>\n",
       "      <td>8.61</td>\n",
       "      <td>23.34</td>\n",
       "      <td>6.86</td>\n",
       "      <td>0.25</td>\n",
       "      <td>0.12</td>\n",
       "      <td>0.70</td>\n",
       "      <td>28.18</td>\n",
       "      <td>2.11</td>\n",
       "      <td>8.71</td>\n",
       "      <td>168.63</td>\n",
       "      <td>2.16</td>\n",
       "      <td>91.37</td>\n",
       "      <td>7.14</td>\n",
       "      <td>9.21</td>\n",
       "    </tr>\n",
       "    <tr>\n",
       "      <th>min</th>\n",
       "      <td>0.01</td>\n",
       "      <td>0.00</td>\n",
       "      <td>0.46</td>\n",
       "      <td>0.00</td>\n",
       "      <td>0.39</td>\n",
       "      <td>3.56</td>\n",
       "      <td>2.90</td>\n",
       "      <td>1.13</td>\n",
       "      <td>1.00</td>\n",
       "      <td>187.00</td>\n",
       "      <td>12.60</td>\n",
       "      <td>0.32</td>\n",
       "      <td>1.73</td>\n",
       "      <td>5.00</td>\n",
       "    </tr>\n",
       "    <tr>\n",
       "      <th>25%</th>\n",
       "      <td>0.08</td>\n",
       "      <td>0.00</td>\n",
       "      <td>5.19</td>\n",
       "      <td>0.00</td>\n",
       "      <td>0.45</td>\n",
       "      <td>5.88</td>\n",
       "      <td>45.00</td>\n",
       "      <td>2.10</td>\n",
       "      <td>4.00</td>\n",
       "      <td>279.00</td>\n",
       "      <td>17.40</td>\n",
       "      <td>375.33</td>\n",
       "      <td>7.01</td>\n",
       "      <td>17.00</td>\n",
       "    </tr>\n",
       "    <tr>\n",
       "      <th>50%</th>\n",
       "      <td>0.26</td>\n",
       "      <td>0.00</td>\n",
       "      <td>9.69</td>\n",
       "      <td>0.00</td>\n",
       "      <td>0.54</td>\n",
       "      <td>6.21</td>\n",
       "      <td>77.70</td>\n",
       "      <td>3.20</td>\n",
       "      <td>5.00</td>\n",
       "      <td>330.00</td>\n",
       "      <td>19.10</td>\n",
       "      <td>391.43</td>\n",
       "      <td>11.38</td>\n",
       "      <td>21.20</td>\n",
       "    </tr>\n",
       "    <tr>\n",
       "      <th>75%</th>\n",
       "      <td>3.68</td>\n",
       "      <td>12.50</td>\n",
       "      <td>18.10</td>\n",
       "      <td>0.00</td>\n",
       "      <td>0.62</td>\n",
       "      <td>6.62</td>\n",
       "      <td>94.10</td>\n",
       "      <td>5.21</td>\n",
       "      <td>24.00</td>\n",
       "      <td>666.00</td>\n",
       "      <td>20.20</td>\n",
       "      <td>396.21</td>\n",
       "      <td>16.96</td>\n",
       "      <td>25.00</td>\n",
       "    </tr>\n",
       "    <tr>\n",
       "      <th>max</th>\n",
       "      <td>88.98</td>\n",
       "      <td>100.00</td>\n",
       "      <td>27.74</td>\n",
       "      <td>1.00</td>\n",
       "      <td>0.87</td>\n",
       "      <td>8.78</td>\n",
       "      <td>100.00</td>\n",
       "      <td>12.13</td>\n",
       "      <td>24.00</td>\n",
       "      <td>711.00</td>\n",
       "      <td>22.00</td>\n",
       "      <td>396.90</td>\n",
       "      <td>37.97</td>\n",
       "      <td>50.00</td>\n",
       "    </tr>\n",
       "  </tbody>\n",
       "</table>\n",
       "</div>"
      ],
      "text/plain": [
       "        CRIM     ZN  INDUS   CHAS    NOX     RM    AGE    DIS    RAD    TAX  \\\n",
       "count 505.00 505.00 505.00 505.00 505.00 505.00 505.00 505.00 505.00 505.00   \n",
       "mean    3.62  11.35  11.15   0.07   0.55   6.28  68.58   3.79   9.57 408.46   \n",
       "std     8.61  23.34   6.86   0.25   0.12   0.70  28.18   2.11   8.71 168.63   \n",
       "min     0.01   0.00   0.46   0.00   0.39   3.56   2.90   1.13   1.00 187.00   \n",
       "25%     0.08   0.00   5.19   0.00   0.45   5.88  45.00   2.10   4.00 279.00   \n",
       "50%     0.26   0.00   9.69   0.00   0.54   6.21  77.70   3.20   5.00 330.00   \n",
       "75%     3.68  12.50  18.10   0.00   0.62   6.62  94.10   5.21  24.00 666.00   \n",
       "max    88.98 100.00  27.74   1.00   0.87   8.78 100.00  12.13  24.00 711.00   \n",
       "\n",
       "       PTRATIO      B  LSTAT   MEDV  \n",
       "count   505.00 505.00 505.00 505.00  \n",
       "mean     18.46 356.59  12.67  22.53  \n",
       "std       2.16  91.37   7.14   9.21  \n",
       "min      12.60   0.32   1.73   5.00  \n",
       "25%      17.40 375.33   7.01  17.00  \n",
       "50%      19.10 391.43  11.38  21.20  \n",
       "75%      20.20 396.21  16.96  25.00  \n",
       "max      22.00 396.90  37.97  50.00  "
      ]
     },
     "execution_count": 5,
     "metadata": {},
     "output_type": "execute_result"
    }
   ],
   "source": [
    "df.describe()"
   ]
  },
  {
   "cell_type": "code",
   "execution_count": 6,
   "id": "614a3c6d",
   "metadata": {},
   "outputs": [
    {
     "data": {
      "text/plain": [
       "<AxesSubplot:>"
      ]
     },
     "execution_count": 6,
     "metadata": {},
     "output_type": "execute_result"
    },
    {
     "data": {
      "image/png": "[encoded data removed]",
      "text/plain": [
       "<Figure size 1500x1000 with 2 Axes>"
      ]
     },
     "metadata": {},
     "output_type": "display_data"
    }
   ],
   "source": [
    "# matriu de correlació\n",
    "fig, ax = plt.subplots(figsize=(15, 10))\n",
    "sns.set_theme(style=\"white\")\n",
    "matrix = np.triu(df.corr())\n",
    "cmap = sns.diverging_palette(230, 20, as_cmap=True)\n",
    "sns.heatmap(df.corr(), annot=True, mask=matrix, cmap=cmap)"
   ]
  },
  {
   "cell_type": "code",
   "execution_count": 7,
   "id": "91097229",
   "metadata": {},
   "outputs": [
    {
     "name": "stdout",
     "output_type": "stream",
     "text": [
      "<class 'pandas.core.frame.DataFrame'>\n",
      "RangeIndex: 505 entries, 0 to 504\n",
      "Data columns (total 14 columns):\n",
      " #   Column   Non-Null Count  Dtype  \n",
      "---  ------   --------------  -----  \n",
      " 0   CRIM     505 non-null    float64\n",
      " 1   ZN       505 non-null    float64\n",
      " 2   INDUS    505 non-null    float64\n",
      " 3   CHAS     505 non-null    int64  \n",
      " 4   NOX      505 non-null    float64\n",
      " 5   RM       505 non-null    float64\n",
      " 6   AGE      505 non-null    float64\n",
      " 7   DIS      505 non-null    float64\n",
      " 8   RAD      505 non-null    int64  \n",
      " 9   TAX      505 non-null    float64\n",
      " 10  PTRATIO  505 non-null    float64\n",
      " 11  B        505 non-null    float64\n",
      " 12  LSTAT    505 non-null    float64\n",
      " 13  MEDV     505 non-null    float64\n",
      "dtypes: float64(12), int64(2)\n",
      "memory usage: 55.4 KB\n"
     ]
    }
   ],
   "source": [
    "df.info()"
   ]
  },
  {
   "cell_type": "code",
   "execution_count": 8,
   "id": "7e27a0b4",
   "metadata": {},
   "outputs": [],
   "source": [
    "# Matrix\n",
    "X = df.drop('MEDV', axis = 'columns')\n",
    "# Vector\n",
    "y = df['MEDV']\n",
    "\n",
    "X_train, X_test, y_train, y_test = train_test_split(X, y, random_state=3,test_size=0.25)"
   ]
  },
  {
   "cell_type": "code",
   "execution_count": 9,
   "id": "cf7e64a3",
   "metadata": {},
   "outputs": [
    {
     "name": "stderr",
     "output_type": "stream",
     "text": [
      "100%|██████████| 42/42 [00:02<00:00, 14.01it/s]"
     ]
    },
    {
     "name": "stdout",
     "output_type": "stream",
     "text": [
      "                               Adjusted R-Squared  R-Squared  RMSE  Time Taken\n",
      "Model                                                                         \n",
      "GradientBoostingRegressor                    0.90       0.91  2.81        0.12\n",
      "XGBRegressor                                 0.89       0.90  2.96        0.13\n",
      "ExtraTreesRegressor                          0.88       0.90  3.06        0.22\n",
      "BaggingRegressor                             0.88       0.89  3.10        0.04\n",
      "RandomForestRegressor                        0.86       0.87  3.37        0.33\n",
      "HistGradientBoostingRegressor                0.84       0.86  3.57        0.38\n",
      "LGBMRegressor                                0.83       0.85  3.66        0.08\n",
      "DecisionTreeRegressor                        0.82       0.84  3.77        0.01\n",
      "KNeighborsRegressor                          0.78       0.80  4.20        0.02\n",
      "AdaBoostRegressor                            0.76       0.79  4.36        0.11\n",
      "PoissonRegressor                             0.74       0.76  4.61        0.01\n",
      "ExtraTreeRegressor                           0.70       0.74  4.88        0.01\n",
      "TransformedTargetRegressor                   0.70       0.73  4.93        0.02\n",
      "LinearRegression                             0.70       0.73  4.93        0.01\n",
      "Ridge                                        0.70       0.73  4.94        0.01\n",
      "LassoLarsCV                                  0.70       0.73  4.95        0.04\n",
      "LassoLarsIC                                  0.70       0.73  4.95        0.02\n",
      "LassoCV                                      0.69       0.73  4.96        0.07\n",
      "Lars                                         0.69       0.73  4.96        0.01\n",
      "ElasticNetCV                                 0.69       0.73  4.97        0.07\n",
      "BayesianRidge                                0.69       0.72  4.97        0.03\n",
      "SGDRegressor                                 0.69       0.72  4.98        0.01\n",
      "RidgeCV                                      0.69       0.72  4.99        0.01\n",
      "LarsCV                                       0.65       0.69  5.30        0.03\n",
      "OrthogonalMatchingPursuitCV                  0.64       0.68  5.35        0.02\n",
      "HuberRegressor                               0.63       0.67  5.44        0.02\n",
      "LinearSVR                                    0.63       0.67  5.48        0.01\n",
      "Lasso                                        0.59       0.64  5.72        0.01\n",
      "MLPRegressor                                 0.59       0.63  5.76        0.36\n",
      "ElasticNet                                   0.56       0.61  5.92        0.01\n",
      "GammaRegressor                               0.55       0.60  5.99        0.01\n",
      "SVR                                          0.55       0.60  6.00        0.04\n",
      "TweedieRegressor                             0.55       0.60  6.01        0.01\n",
      "NuSVR                                        0.55       0.59  6.05        0.02\n",
      "OrthogonalMatchingPursuit                    0.49       0.55  6.38        0.01\n",
      "GaussianProcessRegressor                     0.33       0.40  7.35        0.03\n",
      "PassiveAggressiveRegressor                   0.29       0.37  7.54        0.01\n",
      "RANSACRegressor                              0.14       0.23  8.30        0.05\n",
      "DummyRegressor                              -0.12      -0.00  9.48        0.01\n",
      "LassoLars                                   -0.12      -0.00  9.48        0.01\n",
      "QuantileRegressor                           -0.13      -0.02  9.55        0.55\n",
      "KernelRidge                                 -5.70      -5.01 23.22        0.02\n"
     ]
    },
    {
     "name": "stderr",
     "output_type": "stream",
     "text": [
      "\n"
     ]
    }
   ],
   "source": [
    "reg = LazyRegressor(ignore_warnings=False, custom_metric=None)\n",
    "models, predictions = reg.fit(X_train, X_test, y_train, y_test)\n",
    "print(models)"
   ]
  },
  {
   "cell_type": "code",
   "execution_count": 10,
   "id": "5f9637bf",
   "metadata": {},
   "outputs": [
    {
     "name": "stdout",
     "output_type": "stream",
     "text": [
      "R^2: 0.7290079397855709\n",
      "Root Mean Squared Error: 4.931520902712229\n"
     ]
    }
   ],
   "source": [
    "# Rregression lineal\n",
    "reg_all = LinearRegression()\n",
    "\n",
    "reg_all.fit(X_train,y_train)\n",
    "\n",
    "y_pred = reg_all.predict(X_test)\n",
    "\n",
    "r2_reg = reg_all.score(X_test, y_test)\n",
    "print(\"R^2: {}\".format(r2_reg))\n",
    "\n",
    "rmse_reg = np.sqrt(mean_squared_error(y_test,y_pred))\n",
    "\n",
    "print(\"Root Mean Squared Error: {}\".format(rmse_reg))"
   ]
  },
  {
   "cell_type": "code",
   "execution_count": 12,
   "id": "f6212c1e",
   "metadata": {},
   "outputs": [
    {
     "name": "stdout",
     "output_type": "stream",
     "text": [
      "R^2: 0.7236332276602604\n",
      "Root Mean Squared Error: 4.980185370071364\n"
     ]
    }
   ],
   "source": [
    "# model Ridge\n",
    "ridge =Ridge()\n",
    "\n",
    "ridge.fit(X_train,y_train)\n",
    "\n",
    "\n",
    "y_pred = ridge.predict(X_test)\n",
    "\n",
    "\n",
    "r2_ridge = ridge.score(X_test, y_test)\n",
    "print(\"R^2: {}\".format(r2_ridge))\n",
    "rmse_ridge = np.sqrt(mean_squared_error(y_test,y_pred))\n",
    "print(\"Root Mean Squared Error: {}\".format(rmse_ridge))"
   ]
  },
  {
   "cell_type": "markdown",
   "id": "43ae3157",
   "metadata": {},
   "source": [
    "## Exercici 2\n",
    "**Compara’ls en base al MSE i al R2.**"
   ]
  },
  {
   "cell_type": "code",
   "execution_count": 13,
   "id": "84ff0d02",
   "metadata": {},
   "outputs": [
    {
     "data": {
      "text/html": [
       "<div>\n",
       "<style scoped>\n",
       "    .dataframe tbody tr th:only-of-type {\n",
       "        vertical-align: middle;\n",
       "    }\n",
       "\n",
       "    .dataframe tbody tr th {\n",
       "        vertical-align: top;\n",
       "    }\n",
       "\n",
       "    .dataframe thead th {\n",
       "        text-align: right;\n",
       "    }\n",
       "</style>\n",
       "<table border=\"1\" class=\"dataframe\">\n",
       "  <thead>\n",
       "    <tr style=\"text-align: right;\">\n",
       "      <th></th>\n",
       "      <th>R^2</th>\n",
       "      <th>RMSE</th>\n",
       "    </tr>\n",
       "  </thead>\n",
       "  <tbody>\n",
       "    <tr>\n",
       "      <th>GradientBoostingRegressor</th>\n",
       "      <td>0.73</td>\n",
       "      <td>4.93</td>\n",
       "    </tr>\n",
       "    <tr>\n",
       "      <th>Ridge_regression</th>\n",
       "      <td>0.72</td>\n",
       "      <td>4.98</td>\n",
       "    </tr>\n",
       "  </tbody>\n",
       "</table>\n",
       "</div>"
      ],
      "text/plain": [
       "                            R^2  RMSE\n",
       " GradientBoostingRegressor 0.73  4.93\n",
       "Ridge_regression           0.72  4.98"
      ]
     },
     "execution_count": 13,
     "metadata": {},
     "output_type": "execute_result"
    }
   ],
   "source": [
    "data = {'R^2':[r2_reg,r2_ridge], 'RMSE':[rmse_reg,rmse_ridge]}  \n",
    "df = pd.DataFrame(data, index =[' GradientBoostingRegressor', 'Ridge_regression'])  \n",
    "df"
   ]
  },
  {
   "cell_type": "markdown",
   "id": "d9c94369",
   "metadata": {},
   "source": [
    "## Exercici 3\n",
    "**Entrena’ls utilitzant els diferents paràmetres que admeten per intentar millorar-ne la predicció.**"
   ]
  },
  {
   "cell_type": "code",
   "execution_count": 15,
   "id": "5511228f",
   "metadata": {},
   "outputs": [
    {
     "name": "stdout",
     "output_type": "stream",
     "text": [
      "Tuned lineal Regression Parameters: {'alpha': 0.1}\n",
      "Best score is 0.7020194466191066\n",
      "Root Mean Squared Error: 4.346716392689533\n"
     ]
    }
   ],
   "source": [
    "X_train, X_test, y_train, y_test = train_test_split(X, y, test_size = 0.3, random_state=42)\n",
    "\n",
    "params_Ridge = {'alpha': [1,0.1,0.01,0] }\n",
    "\n",
    "ridge =Ridge()\n",
    "\n",
    "rigde_grid = GridSearchCV(ridge,params_Ridge, cv=3)\n",
    "\n",
    "rigde_grid.fit(X_train,y_train)\n",
    "\n",
    "\n",
    "y_pred = rigde_grid.predict(X_test)\n",
    "\n",
    "\n",
    "print(\"Tuned lineal Regression Parameters: {}\".format(rigde_grid.best_params_)) \n",
    "\n",
    "r2_ridge_grid = rigde_grid.best_score_\n",
    "\n",
    "print(\"Best score is {}\".format(r2_ridge_grid))\n",
    "\n",
    "rmse_rigde_grid = np.sqrt(mean_squared_error(y_test,y_pred))\n",
    "\n",
    "print(\"Root Mean Squared Error: {}\".format(rmse_rigde_grid))"
   ]
  },
  {
   "cell_type": "code",
   "execution_count": 16,
   "id": "162e4e6e",
   "metadata": {},
   "outputs": [
    {
     "name": "stdout",
     "output_type": "stream",
     "text": [
      "Tuned lineal Regression Parameters: {'alpha': 0}\n",
      "Best score is 0.7012409844812857\n",
      "Root Mean Squared Error: 4.345739709643263\n"
     ]
    }
   ],
   "source": [
    "X_train, X_test, y_train, y_test = train_test_split(X, y,\n",
    "test_size = 0.3, random_state=42)\n",
    "\n",
    "params = {'alpha': [1,0.1,0.01,0]}\n",
    "lasso = Lasso()\n",
    "\n",
    "lasso_grid = GridSearchCV(lasso, params, cv = 3)\n",
    "\n",
    "lasso_grid.fit(X_train, y_train)\n",
    "\n",
    "y_pred = lasso_grid.predict(X_test)\n",
    "\n",
    "print(\"Tuned lineal Regression Parameters: {}\".format(lasso_grid.best_params_)) \n",
    "\n",
    "r2_lasso_grid = lasso_grid.best_score_\n",
    "print(\"Best score is {}\".format(r2_lasso_grid))\n",
    "\n",
    "rmse_lasso_grid = np.sqrt(mean_squared_error(y_test,y_pred))\n",
    "\n",
    "print(\"Root Mean Squared Error: {}\".format(rmse_lasso_grid))"
   ]
  },
  {
   "cell_type": "markdown",
   "id": "fcbdaac7",
   "metadata": {},
   "source": [
    "## Exercici 4\n",
    "**Compara el seu rendiment emprant l’aproximació traint/test o emprant totes les dades (validació interna).**"
   ]
  },
  {
   "cell_type": "code",
   "execution_count": 17,
   "id": "621f3e10",
   "metadata": {},
   "outputs": [
    {
     "name": "stdout",
     "output_type": "stream",
     "text": [
      "[ 0.67262052  0.73808531  0.63105077  0.08727661 -0.14959268]\n",
      "Average 5-Fold CV Score: 0.3958881073924128\n"
     ]
    }
   ],
   "source": [
    "ridge = Ridge()\n",
    "ridge_cv = cross_val_score(ridge,X,y,cv=5)\n",
    "\n",
    "print(ridge_cv)\n",
    "\n",
    "print(\"Average 5-Fold CV Score: {}\".format(np.mean(ridge_cv)))"
   ]
  },
  {
   "cell_type": "code",
   "execution_count": 18,
   "id": "eb916d76",
   "metadata": {},
   "outputs": [
    {
     "name": "stdout",
     "output_type": "stream",
     "text": [
      "[0.57677391 0.63210745 0.33949861 0.35560713 0.27709816]\n",
      "Average 5-Fold CV Score: 0.43621705469181693\n"
     ]
    }
   ],
   "source": [
    "lasso = Lasso()\n",
    "lasso_cv = cross_val_score(lasso,X,y,cv=5)\n",
    "\n",
    "print(lasso_cv)\n",
    "\n",
    "print(\"Average 5-Fold CV Score: {}\".format(np.mean(lasso_cv)))"
   ]
  },
  {
   "cell_type": "markdown",
   "id": "487c9ec5",
   "metadata": {},
   "source": [
    "## Exercici 5\n",
    "**No facis servir la variable del nombre d'habitacions (RM) a l’hora de fer prediccions.**"
   ]
  },
  {
   "cell_type": "code",
   "execution_count": 22,
   "id": "9bdeb5b9",
   "metadata": {},
   "outputs": [
    {
     "data": {
      "text/html": [
       "<div>\n",
       "<style scoped>\n",
       "    .dataframe tbody tr th:only-of-type {\n",
       "        vertical-align: middle;\n",
       "    }\n",
       "\n",
       "    .dataframe tbody tr th {\n",
       "        vertical-align: top;\n",
       "    }\n",
       "\n",
       "    .dataframe thead th {\n",
       "        text-align: right;\n",
       "    }\n",
       "</style>\n",
       "<table border=\"1\" class=\"dataframe\">\n",
       "  <thead>\n",
       "    <tr style=\"text-align: right;\">\n",
       "      <th></th>\n",
       "      <th>CRIM</th>\n",
       "      <th>ZN</th>\n",
       "      <th>INDUS</th>\n",
       "      <th>CHAS</th>\n",
       "      <th>NOX</th>\n",
       "      <th>RM</th>\n",
       "      <th>AGE</th>\n",
       "      <th>DIS</th>\n",
       "      <th>RAD</th>\n",
       "      <th>TAX</th>\n",
       "      <th>PTRATIO</th>\n",
       "      <th>B</th>\n",
       "      <th>LSTAT</th>\n",
       "      <th>MEDV</th>\n",
       "    </tr>\n",
       "  </thead>\n",
       "  <tbody>\n",
       "    <tr>\n",
       "      <th>0</th>\n",
       "      <td>0.03</td>\n",
       "      <td>0.00</td>\n",
       "      <td>7.07</td>\n",
       "      <td>0</td>\n",
       "      <td>0.47</td>\n",
       "      <td>6.42</td>\n",
       "      <td>78.90</td>\n",
       "      <td>4.97</td>\n",
       "      <td>2</td>\n",
       "      <td>242.00</td>\n",
       "      <td>17.80</td>\n",
       "      <td>396.90</td>\n",
       "      <td>9.14</td>\n",
       "      <td>21.60</td>\n",
       "    </tr>\n",
       "    <tr>\n",
       "      <th>1</th>\n",
       "      <td>0.03</td>\n",
       "      <td>0.00</td>\n",
       "      <td>7.07</td>\n",
       "      <td>0</td>\n",
       "      <td>0.47</td>\n",
       "      <td>7.18</td>\n",
       "      <td>61.10</td>\n",
       "      <td>4.97</td>\n",
       "      <td>2</td>\n",
       "      <td>242.00</td>\n",
       "      <td>17.80</td>\n",
       "      <td>392.83</td>\n",
       "      <td>4.03</td>\n",
       "      <td>34.70</td>\n",
       "    </tr>\n",
       "    <tr>\n",
       "      <th>2</th>\n",
       "      <td>0.03</td>\n",
       "      <td>0.00</td>\n",
       "      <td>2.18</td>\n",
       "      <td>0</td>\n",
       "      <td>0.46</td>\n",
       "      <td>7.00</td>\n",
       "      <td>45.80</td>\n",
       "      <td>6.06</td>\n",
       "      <td>3</td>\n",
       "      <td>222.00</td>\n",
       "      <td>18.70</td>\n",
       "      <td>394.63</td>\n",
       "      <td>2.94</td>\n",
       "      <td>33.40</td>\n",
       "    </tr>\n",
       "    <tr>\n",
       "      <th>3</th>\n",
       "      <td>0.07</td>\n",
       "      <td>0.00</td>\n",
       "      <td>2.18</td>\n",
       "      <td>0</td>\n",
       "      <td>0.46</td>\n",
       "      <td>7.15</td>\n",
       "      <td>54.20</td>\n",
       "      <td>6.06</td>\n",
       "      <td>3</td>\n",
       "      <td>222.00</td>\n",
       "      <td>18.70</td>\n",
       "      <td>396.90</td>\n",
       "      <td>5.33</td>\n",
       "      <td>36.20</td>\n",
       "    </tr>\n",
       "    <tr>\n",
       "      <th>4</th>\n",
       "      <td>0.03</td>\n",
       "      <td>0.00</td>\n",
       "      <td>2.18</td>\n",
       "      <td>0</td>\n",
       "      <td>0.46</td>\n",
       "      <td>6.43</td>\n",
       "      <td>58.70</td>\n",
       "      <td>6.06</td>\n",
       "      <td>3</td>\n",
       "      <td>222.00</td>\n",
       "      <td>18.70</td>\n",
       "      <td>394.12</td>\n",
       "      <td>5.21</td>\n",
       "      <td>28.70</td>\n",
       "    </tr>\n",
       "  </tbody>\n",
       "</table>\n",
       "</div>"
      ],
      "text/plain": [
       "   CRIM   ZN  INDUS  CHAS  NOX   RM   AGE  DIS  RAD    TAX  PTRATIO      B  \\\n",
       "0  0.03 0.00   7.07     0 0.47 6.42 78.90 4.97    2 242.00    17.80 396.90   \n",
       "1  0.03 0.00   7.07     0 0.47 7.18 61.10 4.97    2 242.00    17.80 392.83   \n",
       "2  0.03 0.00   2.18     0 0.46 7.00 45.80 6.06    3 222.00    18.70 394.63   \n",
       "3  0.07 0.00   2.18     0 0.46 7.15 54.20 6.06    3 222.00    18.70 396.90   \n",
       "4  0.03 0.00   2.18     0 0.46 6.43 58.70 6.06    3 222.00    18.70 394.12   \n",
       "\n",
       "   LSTAT  MEDV  \n",
       "0   9.14 21.60  \n",
       "1   4.03 34.70  \n",
       "2   2.94 33.40  \n",
       "3   5.33 36.20  \n",
       "4   5.21 28.70  "
      ]
     },
     "execution_count": 22,
     "metadata": {},
     "output_type": "execute_result"
    }
   ],
   "source": [
    "df = pd.read_csv('housing data (3).csv')\n",
    "df.columns=[\"CRIM\", \"ZN\",\"INDUS\", \"CHAS\", \"NOX\", \"RM\", \"AGE\", \"DIS\", \"RAD\", \"TAX\", \"PTRATIO\", \"B\", \"LSTAT\", \"MEDV\"]\n",
    "df.head()"
   ]
  },
  {
   "cell_type": "code",
   "execution_count": 23,
   "id": "6c4fe03a",
   "metadata": {},
   "outputs": [],
   "source": [
    "# Matrix\n",
    "X = df.drop(['MEDV','RM'], axis = 'columns')\n",
    "# Vector\n",
    "y = df['MEDV']"
   ]
  },
  {
   "cell_type": "code",
   "execution_count": 25,
   "id": "27efab1a",
   "metadata": {},
   "outputs": [],
   "source": [
    "X_train, X_test, y_train, y_test = train_test_split(X, y, test_size = 0.2, random_state = 6858)"
   ]
  },
  {
   "cell_type": "code",
   "execution_count": 26,
   "id": "743233de",
   "metadata": {},
   "outputs": [
    {
     "name": "stderr",
     "output_type": "stream",
     "text": [
      "100%|██████████| 42/42 [00:02<00:00, 16.32it/s]\n"
     ]
    }
   ],
   "source": [
    "reg2 = LazyRegressor(verbose=0, ignore_warnings=True, custom_metric=None)\n",
    "\n",
    "models2, predictions2 = reg2.fit(X_train, X_test, y_train, y_test)"
   ]
  },
  {
   "cell_type": "code",
   "execution_count": 32,
   "id": "1026ebad",
   "metadata": {},
   "outputs": [
    {
     "name": "stdout",
     "output_type": "stream",
     "text": [
      "                               Adjusted R-Squared  R-Squared  RMSE  Time Taken\n",
      "Model                                                                         \n",
      "GradientBoostingRegressor                    0.90       0.91  2.81        0.12\n",
      "XGBRegressor                                 0.89       0.90  2.96        0.13\n",
      "ExtraTreesRegressor                          0.88       0.90  3.06        0.22\n",
      "BaggingRegressor                             0.88       0.89  3.10        0.04\n",
      "RandomForestRegressor                        0.86       0.87  3.37        0.33\n",
      "HistGradientBoostingRegressor                0.84       0.86  3.57        0.38\n",
      "LGBMRegressor                                0.83       0.85  3.66        0.08\n",
      "DecisionTreeRegressor                        0.82       0.84  3.77        0.01\n",
      "KNeighborsRegressor                          0.78       0.80  4.20        0.02\n",
      "AdaBoostRegressor                            0.76       0.79  4.36        0.11\n"
     ]
    }
   ],
   "source": [
    "print(models.head(10))"
   ]
  },
  {
   "cell_type": "code",
   "execution_count": 33,
   "id": "dc98dffc",
   "metadata": {},
   "outputs": [
    {
     "name": "stdout",
     "output_type": "stream",
     "text": [
      "R^2: 0.7087044414124847\n",
      "Root Mean Squared Error: 5.3545200133679876\n"
     ]
    }
   ],
   "source": [
    "# Rregression lineal\n",
    "reg_all = LinearRegression()\n",
    "\n",
    "reg_all.fit(X_train,y_train)\n",
    "\n",
    "y_pred = reg_all.predict(X_test)\n",
    "\n",
    "r2_reg = reg_all.score(X_test, y_test)\n",
    "print(\"R^2: {}\".format(r2_reg))\n",
    "\n",
    "rmse_reg = np.sqrt(mean_squared_error(y_test,y_pred))\n",
    "\n",
    "print(\"Root Mean Squared Error: {}\".format(rmse_reg))"
   ]
  },
  {
   "cell_type": "code",
   "execution_count": 34,
   "id": "2ac75820",
   "metadata": {},
   "outputs": [
    {
     "name": "stdout",
     "output_type": "stream",
     "text": [
      "R^2: 0.7032650099538733\n",
      "Root Mean Squared Error: 5.404281898743609\n"
     ]
    }
   ],
   "source": [
    "# model Ridge\n",
    "ridge =Ridge()\n",
    "\n",
    "ridge.fit(X_train,y_train)\n",
    "\n",
    "\n",
    "y_pred = ridge.predict(X_test)\n",
    "\n",
    "\n",
    "r2_ridge = ridge.score(X_test, y_test)\n",
    "print(\"R^2: {}\".format(r2_ridge))\n",
    "rmse_ridge = np.sqrt(mean_squared_error(y_test,y_pred))\n",
    "print(\"Root Mean Squared Error: {}\".format(rmse_ridge))"
   ]
  },
  {
   "cell_type": "code",
   "execution_count": null,
   "id": "fb5214ae",
   "metadata": {},
   "outputs": [],
   "source": []
  }
 ],
 "metadata": {
  "kernelspec": {
   "display_name": "Python 3 (ipykernel)",
   "language": "python",
   "name": "python3"
  },
  "language_info": {
   "codemirror_mode": {
    "name": "ipython",
    "version": 3
   },
   "file_extension": ".py",
   "mimetype": "text/x-python",
   "name": "python",
   "nbconvert_exporter": "python",
   "pygments_lexer": "ipython3",
   "version": "3.9.13"
  }
 },
 "nbformat": 4,
 "nbformat_minor": 5
}
